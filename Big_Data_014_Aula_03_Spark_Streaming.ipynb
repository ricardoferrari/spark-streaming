{
  "cells": [
    {
      "cell_type": "markdown",
      "metadata": {
        "id": "pZrBq6MYZx-h"
      },
      "source": [
        "# Dados de Entrada\n",
        "* Selecione \"Adicionar ao Drive\"\n",
        "* Links: \n",
        "  * https://tinyurl.com/bigdata-gut-pt\n",
        "  * https://tinyurl.com/bigdata-amz\n",
        "\n",
        "\n",
        "\n"
      ]
    },
    {
      "cell_type": "markdown",
      "metadata": {
        "id": "qKUDHjlNvN1p"
      },
      "source": [
        "# Setup"
      ]
    },
    {
      "cell_type": "markdown",
      "metadata": {
        "id": "kNY4NS1pgk9N"
      },
      "source": [
        "## Instalação de pacotes"
      ]
    },
    {
      "cell_type": "code",
      "execution_count": null,
      "metadata": {
        "id": "io8C2VOBrhXI"
      },
      "outputs": [],
      "source": [
        "!apt-get update > /dev/null\n",
        "!apt-get install openjdk-8-jdk-headless -qq > /dev/null\n",
        "!apt-get install netcat\n",
        "!wget -q https://downloads.apache.org/spark/spark-3.2.4/spark-3.2.4-bin-hadoop3.2.tgz\n",
        "!tar xf spark-3.2.4-bin-hadoop3.2.tgz\n",
        "!pip install findspark pyspark "
      ]
    },
    {
      "cell_type": "markdown",
      "metadata": {
        "id": "8b0DSUv3g0WJ"
      },
      "source": [
        "## Acesso ao Drive"
      ]
    },
    {
      "cell_type": "code",
      "execution_count": null,
      "metadata": {
        "id": "SAgm1b_iEW9l"
      },
      "outputs": [],
      "source": [
        "from google.colab import drive\n",
        "drive.mount('/content/drive')"
      ]
    },
    {
      "cell_type": "markdown",
      "metadata": {
        "id": "b6uaGuaAvePq"
      },
      "source": [
        "## Preparação do ambiente"
      ]
    },
    {
      "cell_type": "code",
      "execution_count": null,
      "metadata": {
        "id": "o636IcyBGXA8"
      },
      "outputs": [],
      "source": [
        "%env PYTHONHASHSEED=1234\n",
        "%env JAVA_HOME=/usr/lib/jvm/java-8-openjdk-amd64\n",
        "%env SPARK_HOME=/content/spark-3.2.4-bin-hadoop3.2"
      ]
    },
    {
      "cell_type": "code",
      "execution_count": null,
      "metadata": {
        "id": "W0gLXPcaY8L6"
      },
      "outputs": [],
      "source": [
        "import findspark\n",
        "findspark.init(\"/content/spark-3.2.4-bin-hadoop3.2\")"
      ]
    },
    {
      "cell_type": "code",
      "execution_count": null,
      "metadata": {
        "id": "cNxJZsuPIiuy"
      },
      "outputs": [],
      "source": [
        "findspark.find()\n"
      ]
    },
    {
      "cell_type": "markdown",
      "metadata": {
        "id": "3_Stqt-lu3_9"
      },
      "source": [
        "# Streaming de arquivos"
      ]
    },
    {
      "cell_type": "markdown",
      "metadata": {
        "id": "DzBuhkW3sf5V"
      },
      "source": [
        "## Streaming Básico"
      ]
    },
    {
      "cell_type": "code",
      "execution_count": null,
      "metadata": {
        "id": "JSdZ3uVDW9iN"
      },
      "outputs": [],
      "source": [
        "from pyspark import SparkContext\n",
        "from pyspark import SparkConf\n",
        "from pyspark.streaming import StreamingContext\n"
      ]
    },
    {
      "cell_type": "code",
      "execution_count": null,
      "metadata": {
        "id": "PMA5UOL-N0WT"
      },
      "outputs": [],
      "source": [
        "conf = SparkConf().setAppName('Big Data Streaming').setMaster('local[*]')\n",
        "sc = SparkContext.getOrCreate(conf)\n",
        "\n",
        "streaming = StreamingContext(sc, 1)"
      ]
    },
    {
      "cell_type": "code",
      "execution_count": null,
      "metadata": {
        "id": "DrIL47nkIDKK"
      },
      "outputs": [],
      "source": [
        "!mkdir /content/streaming_test"
      ]
    },
    {
      "cell_type": "code",
      "execution_count": null,
      "metadata": {
        "id": "HYp4LYrzNUZV"
      },
      "outputs": [],
      "source": [
        "fstream = streaming.textFileStream('/content/streaming_test')\n",
        "\n"
      ]
    },
    {
      "cell_type": "code",
      "execution_count": null,
      "metadata": {
        "id": "a470yXn_gch7"
      },
      "outputs": [],
      "source": [
        "import re\n",
        "\n",
        "def words_in_line(line) :\n",
        "  line = re.sub('[^a-zà-ù ]', ' ', line.lower())\n",
        "  nwords = len(line.split())\n",
        "  return (None, nwords)\n"
      ]
    },
    {
      "cell_type": "code",
      "execution_count": null,
      "metadata": {
        "id": "xA7h09U1SIs_"
      },
      "outputs": [],
      "source": [
        "wc = fstream.map(words_in_line).reduceByKey(lambda acc, v: acc + v)\n"
      ]
    },
    {
      "cell_type": "code",
      "execution_count": null,
      "metadata": {
        "id": "6DnK7NkYSHYq"
      },
      "outputs": [],
      "source": [
        "wc.pprint()"
      ]
    },
    {
      "cell_type": "code",
      "execution_count": null,
      "metadata": {
        "id": "u9Ons0-KUkeG"
      },
      "outputs": [],
      "source": [
        "!rm -rf /content/streaming_test/*"
      ]
    },
    {
      "cell_type": "markdown",
      "metadata": {
        "id": "lhwA5crEIFsZ"
      },
      "source": [
        "Após iniciar o streaming, você deve copiar alguns arquivos para o diretório streaming_test"
      ]
    },
    {
      "cell_type": "code",
      "execution_count": null,
      "metadata": {
        "id": "mLnnyfUqSHjr"
      },
      "outputs": [],
      "source": [
        "streaming.start()             \n",
        "query = streaming.awaitTermination(120)  "
      ]
    },
    {
      "cell_type": "code",
      "execution_count": null,
      "metadata": {
        "id": "RJtb9oICXzX_"
      },
      "outputs": [],
      "source": [
        "sc.stop()\n",
        "streaming.stop()"
      ]
    },
    {
      "cell_type": "markdown",
      "metadata": {
        "id": "TryxNOaxcSe0"
      },
      "source": [
        "## Processamento para cada RDD no Stream"
      ]
    },
    {
      "cell_type": "code",
      "execution_count": null,
      "metadata": {
        "id": "r_pfBc5YcqlW"
      },
      "outputs": [],
      "source": [
        "conf = SparkConf().setAppName('Big Data Streaming').setMaster('local[*]')\n",
        "sc = SparkContext.getOrCreate(conf)\n",
        "\n",
        "streaming = StreamingContext(sc, 5)"
      ]
    },
    {
      "cell_type": "code",
      "execution_count": null,
      "metadata": {
        "id": "My3Mr6Ktcz2z"
      },
      "outputs": [],
      "source": [
        "fstream = streaming.textFileStream('/content/streaming_test')\n"
      ]
    },
    {
      "cell_type": "code",
      "source": [
        "!rm /content/streaming_test/*"
      ],
      "metadata": {
        "id": "LUX5vzEiNKdM"
      },
      "execution_count": null,
      "outputs": []
    },
    {
      "cell_type": "code",
      "execution_count": null,
      "metadata": {
        "id": "ZVW_FeYXdIng"
      },
      "outputs": [],
      "source": [
        "import re\n",
        "\n",
        "def split_words(line) :\n",
        "  line = re.sub('[^a-zà-ù ]', ' ', line.lower())\n",
        "  words = line.split()\n",
        "  for w in words :\n",
        "    yield (w, 1)\n"
      ]
    },
    {
      "cell_type": "code",
      "execution_count": null,
      "metadata": {
        "id": "jUTWv3GDcy0H"
      },
      "outputs": [],
      "source": [
        "wc = fstream.flatMap(split_words) \\\n",
        "            .reduceByKey(lambda acc, v: acc + v)"
      ]
    },
    {
      "cell_type": "code",
      "execution_count": null,
      "metadata": {
        "id": "9hCZNALmeEzp"
      },
      "outputs": [],
      "source": [
        "wc.pprint()"
      ]
    },
    {
      "cell_type": "code",
      "execution_count": null,
      "metadata": {
        "id": "uQmHfvVfc8hL"
      },
      "outputs": [],
      "source": [
        "all_res = []"
      ]
    },
    {
      "cell_type": "code",
      "execution_count": null,
      "metadata": {
        "id": "an6WDxGnc5wv"
      },
      "outputs": [],
      "source": [
        "def process_rdd(time, rdd):\n",
        "  global all_res\n",
        "  if not rdd.isEmpty():\n",
        "    rdd_sorted = rdd.sortBy(lambda pair: pair[1], ascending=False)\n",
        "    all_res.append(rdd_sorted.take(20))\n"
      ]
    },
    {
      "cell_type": "code",
      "execution_count": null,
      "metadata": {
        "id": "PgBYlqqkdMaX"
      },
      "outputs": [],
      "source": [
        "wc.foreachRDD(process_rdd)"
      ]
    },
    {
      "cell_type": "code",
      "execution_count": null,
      "metadata": {
        "id": "JArTf1Vsc3Mq"
      },
      "outputs": [],
      "source": [
        "!rm -rf /content/streaming_test/*"
      ]
    },
    {
      "cell_type": "code",
      "execution_count": null,
      "metadata": {
        "id": "c57DEwt8d93X"
      },
      "outputs": [],
      "source": [
        "streaming.start()             \n",
        "query = streaming.awaitTermination(120)  "
      ]
    },
    {
      "cell_type": "code",
      "execution_count": null,
      "metadata": {
        "id": "9a5eLWpWeBRa"
      },
      "outputs": [],
      "source": [
        "all_res"
      ]
    },
    {
      "cell_type": "code",
      "execution_count": null,
      "metadata": {
        "id": "5_QqKrXlgIQp"
      },
      "outputs": [],
      "source": [
        "all_res_merged = sum(all_res, [])"
      ]
    },
    {
      "cell_type": "code",
      "source": [
        "all_res_merged"
      ],
      "metadata": {
        "id": "4WiQYJXgOm0O"
      },
      "execution_count": null,
      "outputs": []
    },
    {
      "cell_type": "code",
      "execution_count": null,
      "metadata": {
        "id": "G4GB-V7sfn4q"
      },
      "outputs": [],
      "source": [
        "merged_rdd = sc.parallelize(all_res_merged)"
      ]
    },
    {
      "cell_type": "code",
      "source": [
        "merged_rdd"
      ],
      "metadata": {
        "id": "bllUptIr4w9h"
      },
      "execution_count": null,
      "outputs": []
    },
    {
      "cell_type": "code",
      "execution_count": null,
      "metadata": {
        "id": "7DvvKA8pgqzd"
      },
      "outputs": [],
      "source": [
        "total_rdd = merged_rdd.reduceByKey(lambda acc, v : v+acc)"
      ]
    },
    {
      "cell_type": "code",
      "execution_count": null,
      "metadata": {
        "id": "Rzj-Svj7f5Dy"
      },
      "outputs": [],
      "source": [
        "total_rdd.take(10)"
      ]
    },
    {
      "cell_type": "code",
      "execution_count": null,
      "metadata": {
        "id": "m2LaMSo6eCrZ"
      },
      "outputs": [],
      "source": [
        "sc.stop()\n",
        "streaming.stop()"
      ]
    },
    {
      "cell_type": "markdown",
      "metadata": {
        "id": "xzDmnoZZchkF"
      },
      "source": [
        "# Streaming via Rede"
      ]
    },
    {
      "cell_type": "markdown",
      "metadata": {
        "id": "EYZWQLG9aXLh"
      },
      "source": [
        "## Revisão Sobre sockets Client-Server\n",
        "\n"
      ]
    },
    {
      "cell_type": "code",
      "execution_count": null,
      "metadata": {
        "id": "c4bU1hP2bX57"
      },
      "outputs": [],
      "source": [
        "import socket\n"
      ]
    },
    {
      "cell_type": "code",
      "execution_count": null,
      "metadata": {
        "id": "MuzsbayaaiBC"
      },
      "outputs": [],
      "source": [
        "def server() :\n",
        "  s = socket.socket()\n",
        "  s.setsockopt(socket.SOL_SOCKET, socket.SO_REUSEADDR, 1)\n",
        "  print(\"Socket Criado no Servidor\")\n",
        "  s.bind(('localhost',9998))\n",
        "  s.listen(3)\n",
        "  print(\"Esperando Conexões\")\n",
        "\n",
        "  while True:\n",
        "    c, addr = s.accept()\n",
        "    name = c.recv(1024).decode()\n",
        "    print(\"Cliente \",addr, \" falou: \", name)\n",
        "    c.send(bytes('Eu sou o Servidor','utf-8'))\n",
        "    c.close()"
      ]
    },
    {
      "cell_type": "code",
      "execution_count": null,
      "metadata": {
        "id": "NkxFVg_yao7d"
      },
      "outputs": [],
      "source": [
        "def client() :\n",
        "  c = socket.socket()\n",
        "  c.connect(('localhost', 9998))\n",
        "  name = \"Eu sou o Cliente\"\n",
        "  c.send(bytes(name,'utf-8'))\n",
        "  print('Servidor falou: '+c.recv(1024).decode())"
      ]
    },
    {
      "cell_type": "code",
      "execution_count": null,
      "metadata": {
        "id": "uFC-eEM7a3gR"
      },
      "outputs": [],
      "source": [
        "from multiprocessing import Process\n",
        "\n",
        "sp = Process(target=server)\n",
        "sp.start()\n",
        "\n"
      ]
    },
    {
      "cell_type": "code",
      "execution_count": null,
      "metadata": {
        "id": "Z_27uoO7iJFY"
      },
      "outputs": [],
      "source": [
        "cp = Process(target=client)\n",
        "cp.start()\n"
      ]
    },
    {
      "cell_type": "code",
      "execution_count": null,
      "metadata": {
        "id": "4wjSpIs9bdga"
      },
      "outputs": [],
      "source": [
        "cp = Process(target=client)\n",
        "cp.start()"
      ]
    },
    {
      "cell_type": "code",
      "execution_count": null,
      "metadata": {
        "id": "gjZ1EHhebl7l"
      },
      "outputs": [],
      "source": [
        "sp.terminate()"
      ]
    },
    {
      "cell_type": "code",
      "execution_count": null,
      "metadata": {
        "id": "Ij877zX4bJ45"
      },
      "outputs": [],
      "source": [
        "cp.join()\n",
        "sp.join()\n"
      ]
    },
    {
      "cell_type": "markdown",
      "metadata": {
        "id": "Y5RQYEexjZzJ"
      },
      "source": [
        "## Envio de um stream de dados\n"
      ]
    },
    {
      "cell_type": "code",
      "execution_count": null,
      "metadata": {
        "id": "h6-Iz5l1jkN0"
      },
      "outputs": [],
      "source": [
        "import socket\n",
        "import time"
      ]
    },
    {
      "cell_type": "code",
      "execution_count": null,
      "metadata": {
        "id": "WEeNbgsQjbWS"
      },
      "outputs": [],
      "source": [
        "def server_streaming() :\n",
        "  s = socket.socket()\n",
        "  s.setsockopt(socket.SOL_SOCKET, socket.SO_REUSEADDR, 1)\n",
        "  print(\"Socket Criado no Servidor\")\n",
        "  s.bind(('localhost',9998))\n",
        "  s.listen(3)\n",
        "  print(\"Esperando Conexões\")\n",
        "\n",
        "  filename = '/content/drive/My Drive/amz/small.csv'\n",
        "  with open(filename) as file:\n",
        "    content = file.readlines()\n",
        "\n",
        "  NLINES = 600\n",
        "\n",
        "  while True:\n",
        "    c, addr = s.accept()\n",
        "    print(\"Conectado com \",addr)\n",
        "    for i in range(NLINES) :\n",
        "      c.send(bytes(content[i],'utf-8'))\n",
        "      time.sleep(0.1)\n",
        "    c.close()"
      ]
    },
    {
      "cell_type": "code",
      "execution_count": null,
      "metadata": {
        "id": "cuIBN1dak6Y6"
      },
      "outputs": [],
      "source": [
        "from multiprocessing import Process\n",
        "\n",
        "sp = Process(target=server_streaming)\n",
        "sp.start()\n",
        "\n"
      ]
    },
    {
      "cell_type": "code",
      "execution_count": null,
      "metadata": {
        "id": "JduskhlOoIlo"
      },
      "outputs": [],
      "source": [
        "!nc localhost 9998 "
      ]
    },
    {
      "cell_type": "code",
      "execution_count": null,
      "metadata": {
        "id": "vJNzvvw9lEw7"
      },
      "outputs": [],
      "source": [
        "sp.terminate()\n",
        "sp.join()\n"
      ]
    },
    {
      "cell_type": "code",
      "execution_count": null,
      "metadata": {
        "id": "5DDt7GdisaAn"
      },
      "outputs": [],
      "source": []
    },
    {
      "cell_type": "markdown",
      "metadata": {
        "id": "riSurL7TrMRu"
      },
      "source": [
        "# Spark Streaming via Rede"
      ]
    },
    {
      "cell_type": "code",
      "execution_count": null,
      "metadata": {
        "id": "xgJJJ-0fuPzi"
      },
      "outputs": [],
      "source": [
        "from multiprocessing import Process\n",
        "\n",
        "sp = Process(target=server_streaming)\n",
        "sp.start()"
      ]
    },
    {
      "cell_type": "code",
      "execution_count": null,
      "metadata": {
        "id": "EdYod0H0scsO"
      },
      "outputs": [],
      "source": [
        "conf = SparkConf().setAppName('Big Data Streaming').setMaster('local[*]')\n",
        "sc = SparkContext.getOrCreate(conf)\n",
        "\n",
        "streaming = StreamingContext(sc, 10)"
      ]
    },
    {
      "cell_type": "code",
      "execution_count": null,
      "metadata": {
        "id": "Sb6m0_erstMh"
      },
      "outputs": [],
      "source": [
        "netstream = streaming.socketTextStream(\"localhost\", 9998)"
      ]
    },
    {
      "cell_type": "code",
      "execution_count": null,
      "metadata": {
        "id": "wtrw6TPmsz0m"
      },
      "outputs": [],
      "source": [
        "prod_rev = netstream.map(lambda line: (line.split(','))) \\\n",
        "              .map(lambda line: (line[0], (float(line[2]), 1))) \\\n",
        "              .reduceByKey(lambda acc, v: (acc[0] + v[0], acc[1] + v[1])) \\\n",
        "              .mapValues(lambda v: v[0]/v[1])\n"
      ]
    },
    {
      "cell_type": "code",
      "execution_count": null,
      "metadata": {
        "id": "VcJSLuR7tZqY"
      },
      "outputs": [],
      "source": [
        "prod_rev.pprint()"
      ]
    },
    {
      "cell_type": "code",
      "execution_count": null,
      "metadata": {
        "id": "8gbxD-sZtdfR"
      },
      "outputs": [],
      "source": [
        "streaming.start()             \n",
        "query = streaming.awaitTermination(60)  "
      ]
    },
    {
      "cell_type": "code",
      "execution_count": null,
      "metadata": {
        "id": "hKWt0UiItejX"
      },
      "outputs": [],
      "source": [
        "sc.stop()\n",
        "streaming.stop()"
      ]
    },
    {
      "cell_type": "code",
      "execution_count": null,
      "metadata": {
        "id": "_mDl1u8BuRu_"
      },
      "outputs": [],
      "source": [
        "sp.terminate()\n",
        "sp.join()\n"
      ]
    }
  ],
  "metadata": {
    "colab": {
      "provenance": []
    },
    "kernelspec": {
      "display_name": "Python 3",
      "name": "python3"
    }
  },
  "nbformat": 4,
  "nbformat_minor": 0
}